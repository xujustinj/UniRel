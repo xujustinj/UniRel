{
 "cells": [
  {
   "cell_type": "code",
   "execution_count": 1,
   "id": "0ef131c5",
   "metadata": {},
   "outputs": [],
   "source": [
    "from predict import UniRel\n",
    "\n",
    "model_path = \"./output/nyt/checkpoint-final\"\n",
    "unirel = UniRel(model_path, dataset_name=\"nyt\")"
   ]
  },
  {
   "cell_type": "code",
   "execution_count": 2,
   "id": "260f4458",
   "metadata": {
    "scrolled": true
   },
   "outputs": [
    {
     "name": "stderr",
     "output_type": "stream",
     "text": [
      "/home/j437xu/.conda/envs/UniRel/lib/python3.11/site-packages/transformers/modeling_utils.py:866: FutureWarning: The `device` argument is deprecated and will be removed in v5 of Transformers.\n",
      "  warnings.warn(\n"
     ]
    },
    {
     "data": {
      "text/plain": [
       "[[('China', '/location/location/contains', 'Jinghong'),\n",
       "  ('China', '/location/country/administrative_divisions', 'Yunnan'),\n",
       "  ('Thailand', '/location/location/contains', 'Chiang Mai'),\n",
       "  ('Yunnan', '/location/administrative_division/country', 'China'),\n",
       "  ('China', '/location/location/contains', 'Yunnan')]]"
      ]
     },
     "execution_count": 2,
     "metadata": {},
     "output_type": "execute_result"
    }
   ],
   "source": [
    "unirel.predict(\"In perhaps the most ambitious Mekong cruise attempt, Impulse Tourism, an operator based in Chiang Mai, Thailand, is organizing an expedition starting in November in Jinghong, a small city in the Yunnan province in China.\")"
   ]
  },
  {
   "cell_type": "code",
   "execution_count": 3,
   "id": "44edb7ff",
   "metadata": {},
   "outputs": [
    {
     "data": {
      "text/plain": [
       "[[('Sri Lanka', '/location/location/contains', 'Haputhale')]]"
      ]
     },
     "execution_count": 3,
     "metadata": {},
     "output_type": "execute_result"
    }
   ],
   "source": [
    "unirel.predict(\"Adisham Hall in Sri Lanka was constructed between 1927 and 1931 at St Benedicts Monastery , Adisham , Haputhale , Sri Lanka in the Tudor and Jacobean style of architecture\")"
   ]
  },
  {
   "cell_type": "code",
   "execution_count": 4,
   "id": "bfe8c2ef",
   "metadata": {},
   "outputs": [
    {
     "data": {
      "text/plain": [
       "[[('Anson', '/people/person/place_of_birth', 'Hong Kong')],\n",
       " [('China', '/location/location/contains', 'Jinghong'),\n",
       "  ('China', '/location/country/administrative_divisions', 'Yunnan'),\n",
       "  ('Thailand', '/location/location/contains', 'Chiang Mai'),\n",
       "  ('Yunnan', '/location/administrative_division/country', 'China'),\n",
       "  ('China', '/location/location/contains', 'Yunnan')],\n",
       " [('Sri Lanka', '/location/location/contains', 'Haputhale')]]"
      ]
     },
     "execution_count": 4,
     "metadata": {},
     "output_type": "execute_result"
    }
   ],
   "source": [
    "unirel.predict([\n",
    "    \"Anson was born in 1979 in Hong Kong.\",\n",
    "    \"In perhaps the most ambitious Mekong cruise attempt, Impulse Tourism, an operator based in Chiang Mai, Thailand, is organizing an expedition starting in November in Jinghong, a small city in the Yunnan province in China.\",\n",
    "    \"Adisham Hall in Sri Lanka was constructed between 1927 and 1931 at St Benedicts Monastery , Adisham , Haputhale , Sri Lanka in the Tudor and Jacobean style of architecture\"\n",
    "])"
   ]
  }
 ],
 "metadata": {
  "kernelspec": {
   "display_name": "UniRel",
   "language": "python",
   "name": "unirel"
  },
  "language_info": {
   "codemirror_mode": {
    "name": "ipython",
    "version": 3
   },
   "file_extension": ".py",
   "mimetype": "text/x-python",
   "name": "python",
   "nbconvert_exporter": "python",
   "pygments_lexer": "ipython3",
   "version": "3.11.4"
  }
 },
 "nbformat": 4,
 "nbformat_minor": 5
}
