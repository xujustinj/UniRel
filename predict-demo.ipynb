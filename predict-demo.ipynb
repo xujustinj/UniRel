{
 "cells": [
  {
   "cell_type": "code",
   "execution_count": 1,
   "id": "e5fdc7be",
   "metadata": {},
   "outputs": [
    {
     "name": "stderr",
     "output_type": "stream",
     "text": [
      "/home/j437xu/.conda/envs/UniRel/lib/python3.10/site-packages/tqdm/auto.py:21: TqdmWarning: IProgress not found. Please update jupyter and ipywidgets. See https://ipywidgets.readthedocs.io/en/stable/user_install.html\n",
      "  from .autonotebook import tqdm as notebook_tqdm\n"
     ]
    }
   ],
   "source": [
    "from predict import UniRel\n",
    "\n",
    "model_path = \"./output/nyt/checkpoint-final\"\n",
    "unirel = UniRel(model_path, dataset_name=\"nyt\")"
   ]
  },
  {
   "cell_type": "code",
   "execution_count": 2,
   "id": "391f54ac",
   "metadata": {
    "scrolled": true
   },
   "outputs": [
    {
     "name": "stderr",
     "output_type": "stream",
     "text": [
      "/home/j437xu/.conda/envs/UniRel/lib/python3.10/site-packages/transformers/modeling_utils.py:862: FutureWarning: The `device` argument is deprecated and will be removed in v5 of Transformers.\n",
      "  warnings.warn(\n"
     ]
    },
    {
     "data": {
      "text/plain": [
       "[[('Thailand', '/location/location/contains', 'Chiang Mai'),\n",
       "  ('China', '/location/location/contains', 'Yunnan'),\n",
       "  ('China', '/location/country/administrative_divisions', 'Yunnan'),\n",
       "  ('Yunnan', '/location/administrative_division/country', 'China'),\n",
       "  ('China', '/location/location/contains', 'Jinghong')]]"
      ]
     },
     "execution_count": 2,
     "metadata": {},
     "output_type": "execute_result"
    }
   ],
   "source": [
    "unirel.predict(\"In perhaps the most ambitious Mekong cruise attempt, Impulse Tourism, an operator based in Chiang Mai, Thailand, is organizing an expedition starting in November in Jinghong, a small city in the Yunnan province in China.\")"
   ]
  },
  {
   "cell_type": "code",
   "execution_count": 3,
   "id": "74cd8ed1",
   "metadata": {},
   "outputs": [
    {
     "data": {
      "text/plain": [
       "[[('Sri Lanka', '/location/location/contains', 'Haputhale')]]"
      ]
     },
     "execution_count": 3,
     "metadata": {},
     "output_type": "execute_result"
    }
   ],
   "source": [
    "unirel.predict(\"Adisham Hall in Sri Lanka was constructed between 1927 and 1931 at St Benedicts Monastery , Adisham , Haputhale , Sri Lanka in the Tudor and Jacobean style of architecture\")"
   ]
  },
  {
   "cell_type": "code",
   "execution_count": 4,
   "id": "8ff55f25",
   "metadata": {},
   "outputs": [
    {
     "data": {
      "text/plain": [
       "[[('Anson', '/people/person/place_of_birth', 'Hong Kong')],\n",
       " [('Thailand', '/location/location/contains', 'Chiang Mai'),\n",
       "  ('China', '/location/location/contains', 'Yunnan'),\n",
       "  ('China', '/location/country/administrative_divisions', 'Yunnan'),\n",
       "  ('Yunnan', '/location/administrative_division/country', 'China'),\n",
       "  ('China', '/location/location/contains', 'Jinghong')],\n",
       " [('Sri Lanka', '/location/location/contains', 'Haputhale')]]"
      ]
     },
     "execution_count": 4,
     "metadata": {},
     "output_type": "execute_result"
    }
   ],
   "source": [
    "unirel.predict([\n",
    "    \"Anson was born in 1979 in Hong Kong.\",\n",
    "    \"In perhaps the most ambitious Mekong cruise attempt, Impulse Tourism, an operator based in Chiang Mai, Thailand, is organizing an expedition starting in November in Jinghong, a small city in the Yunnan province in China.\",\n",
    "    \"Adisham Hall in Sri Lanka was constructed between 1927 and 1931 at St Benedicts Monastery , Adisham , Haputhale , Sri Lanka in the Tudor and Jacobean style of architecture\"\n",
    "])"
   ]
  }
 ],
 "metadata": {
  "kernelspec": {
   "display_name": "UniRel",
   "language": "python",
   "name": "unirel"
  },
  "language_info": {
   "codemirror_mode": {
    "name": "ipython",
    "version": 3
   },
   "file_extension": ".py",
   "mimetype": "text/x-python",
   "name": "python",
   "nbconvert_exporter": "python",
   "pygments_lexer": "ipython3",
   "version": "3.10.9"
  }
 },
 "nbformat": 4,
 "nbformat_minor": 5
}
