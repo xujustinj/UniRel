{
 "cells": [
  {
   "cell_type": "markdown",
   "metadata": {},
   "source": [
    "# Evaluating a Model Checkpoint\n",
    "\n",
    "This notebook demonstrates how to evaluate the given model checkpoint trained on NYT."
   ]
  },
  {
   "cell_type": "markdown",
   "metadata": {},
   "source": [
    "## Imports"
   ]
  },
  {
   "cell_type": "code",
   "execution_count": 1,
   "metadata": {},
   "outputs": [],
   "source": [
    "from transformers import BertTokenizerFast, Trainer\n",
    "from dataprocess.data_extractor import unirel_span_extractor\n",
    "from dataprocess.data_processor import UniRelDataProcessor\n",
    "from dataprocess.dataset import UniRelSpanDataset\n",
    "from model.model_transformers import UniRelModel"
   ]
  },
  {
   "cell_type": "markdown",
   "metadata": {},
   "source": [
    "## Test Dataset"
   ]
  },
  {
   "cell_type": "code",
   "execution_count": 2,
   "metadata": {},
   "outputs": [
    {
     "name": "stderr",
     "output_type": "stream",
     "text": [
      "100%|██████████| 5000/5000 [00:03<00:00, 1531.40it/s]"
     ]
    },
    {
     "name": "stdout",
     "output_type": "stream",
     "text": [
      "139\n",
      "more than 100: 49\n",
      "more than 150: 0\n",
      "5000\n"
     ]
    },
    {
     "name": "stderr",
     "output_type": "stream",
     "text": [
      "\n"
     ]
    }
   ],
   "source": [
    "added_token = [f\"[unused{i}]\" for i in range(1, 17)]\n",
    "tokenizer = BertTokenizerFast.from_pretrained(\n",
    "    \"bert-base-cased\",\n",
    "    additional_special_tokens=added_token,\n",
    "    do_basic_tokenize=False,\n",
    ")\n",
    "data_processor = UniRelDataProcessor(\n",
    "    root=\"data\",\n",
    "    tokenizer=tokenizer,\n",
    "    dataset_name=\"nyt\",\n",
    ")\n",
    "test_samples = data_processor.get_test_sample()\n",
    "test_dataset = UniRelSpanDataset(\n",
    "    test_samples,\n",
    "    data_processor,\n",
    "    tokenizer,\n",
    "    mode='test',\n",
    "    ignore_label=-100,\n",
    "    model_type='bert',\n",
    "    ngram_dict=None,\n",
    "    max_length=150 + 2,\n",
    "    predict=True,\n",
    "    eval_type=\"test\"\n",
    ")\n",
    "print(len(test_dataset))"
   ]
  },
  {
   "cell_type": "markdown",
   "metadata": {},
   "source": [
    "## Load Model"
   ]
  },
  {
   "cell_type": "code",
   "execution_count": 3,
   "metadata": {},
   "outputs": [],
   "source": [
    "checkpoint = \"./output/nyt/checkpoint-final\"\n",
    "model = UniRelModel.from_pretrained(checkpoint)"
   ]
  },
  {
   "cell_type": "markdown",
   "metadata": {},
   "source": [
    "## Predictions"
   ]
  },
  {
   "cell_type": "code",
   "execution_count": 4,
   "metadata": {},
   "outputs": [
    {
     "name": "stderr",
     "output_type": "stream",
     "text": [
      "/home/j437xu/.conda/envs/UniRel/lib/python3.11/site-packages/transformers/modeling_utils.py:866: FutureWarning: The `device` argument is deprecated and will be removed in v5 of Transformers.\n",
      "  warnings.warn(\n"
     ]
    },
    {
     "data": {
      "text/html": [],
      "text/plain": [
       "<IPython.core.display.HTML object>"
      ]
     },
     "metadata": {},
     "output_type": "display_data"
    }
   ],
   "source": [
    "trainer = Trainer(model=model)\n",
    "test_prediction = trainer.predict(test_dataset, ignore_keys=[\"loss\"])"
   ]
  },
  {
   "cell_type": "markdown",
   "metadata": {},
   "source": [
    "## Metrics"
   ]
  },
  {
   "cell_type": "code",
   "execution_count": 5,
   "metadata": {},
   "outputs": [
    {
     "name": "stdout",
     "output_type": "stream",
     "text": [
      "\n",
      "all:  {'p': 8057, 'c': 7548, 'g': 8120} \n",
      " {'all-prec': 0.9368251210127839, 'all-recall': 0.9295566502463054, 'all-f1': 0.9331767323978487}\n"
     ]
    },
    {
     "data": {
      "text/plain": [
       "(0.9368251210127839, 0.9295566502463054, 0.9331767323978487)"
      ]
     },
     "execution_count": 5,
     "metadata": {},
     "output_type": "execute_result"
    }
   ],
   "source": [
    "unirel_span_extractor(\n",
    "    tokenizer=tokenizer,\n",
    "    dataset=test_dataset,\n",
    "    predictions=test_prediction,\n",
    "    path=\"./output/nyt\",\n",
    ")"
   ]
  }
 ],
 "metadata": {
  "kernelspec": {
   "display_name": "UniRel",
   "language": "python",
   "name": "unirel"
  },
  "language_info": {
   "codemirror_mode": {
    "name": "ipython",
    "version": 3
   },
   "file_extension": ".py",
   "mimetype": "text/x-python",
   "name": "python",
   "nbconvert_exporter": "python",
   "pygments_lexer": "ipython3",
   "version": "3.10.11"
  }
 },
 "nbformat": 4,
 "nbformat_minor": 2
}
