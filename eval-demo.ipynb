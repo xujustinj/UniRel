{
 "cells": [
  {
   "cell_type": "markdown",
   "metadata": {},
   "source": [
    "# Evaluating a Model Checkpoint\n",
    "\n",
    "This notebook demonstrates how to evaluate the given model checkpoint trained on NYT."
   ]
  },
  {
   "cell_type": "markdown",
   "metadata": {},
   "source": [
    "## Imports"
   ]
  },
  {
   "cell_type": "code",
   "execution_count": 1,
   "metadata": {},
   "outputs": [],
   "source": [
    "import os\n",
    "from transformers import BertTokenizerFast, Trainer\n",
    "from dataprocess.data_extractor import unirel_span_extractor\n",
    "from dataprocess.data_processor import UniRelDataProcessor\n",
    "from dataprocess.dataset import UniRelSpanDataset\n",
    "from model.model_transformers import UniRelModel"
   ]
  },
  {
   "cell_type": "markdown",
   "metadata": {},
   "source": [
    "## Evaluation Function"
   ]
  },
  {
   "cell_type": "code",
   "execution_count": 2,
   "metadata": {},
   "outputs": [],
   "source": [
    "def evaluate_checkpoint(\n",
    "    checkpoint: str,\n",
    "    dataset_name: str,\n",
    ") -> tuple[float, float, float]:\n",
    "    # LOAD TEST DATASET\n",
    "    added_token = [f\"[unused{i}]\" for i in range(1, 17)]\n",
    "    tokenizer = BertTokenizerFast.from_pretrained(\n",
    "        \"bert-base-cased\",\n",
    "        additional_special_tokens=added_token,\n",
    "        do_basic_tokenize=False,\n",
    "    )\n",
    "    data_processor = UniRelDataProcessor(\n",
    "        root=\"data\",\n",
    "        tokenizer=tokenizer,\n",
    "        dataset_name=dataset_name,\n",
    "    )\n",
    "    test_samples = data_processor.get_test_sample()\n",
    "    test_dataset = UniRelSpanDataset(\n",
    "        test_samples,\n",
    "        data_processor,\n",
    "        tokenizer,\n",
    "        mode='test',\n",
    "        ignore_label=-100,\n",
    "        model_type='bert',\n",
    "        ngram_dict=None,\n",
    "        max_length=150 + 2,\n",
    "        predict=True,\n",
    "        eval_type=\"test\"\n",
    "    )\n",
    "    print(f\"Loaded test dataset {dataset_name} of size {len(test_dataset)}\")\n",
    "\n",
    "    # LOAD MODEL CHECKPOINT\n",
    "    model = UniRelModel.from_pretrained(checkpoint)\n",
    "    print(f\"Loaded model from checkpoint {checkpoint}\")\n",
    "\n",
    "    # GET MODEL PREDICTIONS ON TEST DATA\n",
    "    trainer = Trainer(model=model)\n",
    "    test_prediction = trainer.predict(test_dataset, ignore_keys=[\"loss\"])\n",
    "\n",
    "    # COMPUTE METRICS\n",
    "    dump_path = os.path.join(checkpoint, dataset_name)\n",
    "    if not os.path.exists(dump_path):\n",
    "        os.makedirs(dump_path)\n",
    "    print(f\"Saving test dump in {dump_path}\")\n",
    "    return unirel_span_extractor(\n",
    "        tokenizer=tokenizer,\n",
    "        dataset=test_dataset,\n",
    "        predictions=test_prediction,\n",
    "        path=dump_path,\n",
    "    )"
   ]
  },
  {
   "cell_type": "markdown",
   "metadata": {},
   "source": [
    "## Evaluate NYT Checkpoint on NYT"
   ]
  },
  {
   "cell_type": "code",
   "execution_count": 3,
   "metadata": {},
   "outputs": [
    {
     "name": "stderr",
     "output_type": "stream",
     "text": [
      "100%|██████████| 5000/5000 [00:03<00:00, 1515.34it/s]\n"
     ]
    },
    {
     "name": "stdout",
     "output_type": "stream",
     "text": [
      "139\n",
      "more than 100: 49\n",
      "more than 150: 0\n",
      "Loaded test dataset nyt of size 5000\n",
      "Loaded model from checkpoint ./output/nyt/checkpoint-final\n"
     ]
    },
    {
     "name": "stderr",
     "output_type": "stream",
     "text": [
      "/home/j437xu/.conda/envs/UniRel/lib/python3.11/site-packages/transformers/modeling_utils.py:866: FutureWarning: The `device` argument is deprecated and will be removed in v5 of Transformers.\n",
      "  warnings.warn(\n"
     ]
    },
    {
     "data": {
      "text/html": [],
      "text/plain": [
       "<IPython.core.display.HTML object>"
      ]
     },
     "metadata": {},
     "output_type": "display_data"
    },
    {
     "name": "stdout",
     "output_type": "stream",
     "text": [
      "Saving test dump in ./output/nyt/checkpoint-final/nyt\n",
      "\n",
      "all:  {'p': 8057, 'c': 7548, 'g': 8120} \n",
      " {'all-prec': 0.9368251210127839, 'all-recall': 0.9295566502463054, 'all-f1': 0.9331767323978487}\n"
     ]
    },
    {
     "data": {
      "text/plain": [
       "(0.9368251210127839, 0.9295566502463054, 0.9331767323978487)"
      ]
     },
     "execution_count": 3,
     "metadata": {},
     "output_type": "execute_result"
    }
   ],
   "source": [
    "evaluate_checkpoint(checkpoint=\"./output/nyt/checkpoint-final\", dataset_name=\"nyt\")"
   ]
  },
  {
   "cell_type": "markdown",
   "metadata": {},
   "source": [
    "## Evaluate NYT Checkpoint on WebNLG\n",
    "\n",
    "We don't expect it to do well at all."
   ]
  },
  {
   "cell_type": "code",
   "execution_count": 4,
   "metadata": {},
   "outputs": [
    {
     "name": "stderr",
     "output_type": "stream",
     "text": [
      "100%|██████████| 703/703 [00:01<00:00, 646.53it/s]\n"
     ]
    },
    {
     "name": "stdout",
     "output_type": "stream",
     "text": [
      "99\n",
      "more than 100: 0\n",
      "more than 150: 0\n",
      "Loaded test dataset webnlg of size 703\n",
      "Loaded model from checkpoint ./output/nyt/checkpoint-final\n"
     ]
    },
    {
     "data": {
      "text/html": [],
      "text/plain": [
       "<IPython.core.display.HTML object>"
      ]
     },
     "metadata": {},
     "output_type": "display_data"
    },
    {
     "name": "stdout",
     "output_type": "stream",
     "text": [
      "Saving test dump in ./output/nyt/checkpoint-final/webnlg\n",
      "\n",
      "all:  {'p': 474, 'c': 36, 'g': 1607} \n",
      " {'all-prec': 0.0759493670886076, 'all-recall': 0.0224019912881145, 'all-f1': 0.03459875060067275}\n"
     ]
    },
    {
     "data": {
      "text/plain": [
       "(0.0759493670886076, 0.0224019912881145, 0.03459875060067275)"
      ]
     },
     "execution_count": 4,
     "metadata": {},
     "output_type": "execute_result"
    }
   ],
   "source": [
    "evaluate_checkpoint(checkpoint=\"./output/nyt/checkpoint-final\", dataset_name=\"webnlg\")"
   ]
  }
 ],
 "metadata": {
  "kernelspec": {
   "display_name": "UniRel",
   "language": "python",
   "name": "unirel"
  },
  "language_info": {
   "codemirror_mode": {
    "name": "ipython",
    "version": 3
   },
   "file_extension": ".py",
   "mimetype": "text/x-python",
   "name": "python",
   "nbconvert_exporter": "python",
   "pygments_lexer": "ipython3",
   "version": "3.11.4"
  }
 },
 "nbformat": 4,
 "nbformat_minor": 2
}
